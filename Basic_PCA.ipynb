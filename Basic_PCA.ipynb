{
  "nbformat": 4,
  "nbformat_minor": 0,
  "metadata": {
    "colab": {
      "name": "Basic PCA.ipynb",
      "provenance": [],
      "collapsed_sections": []
    },
    "kernelspec": {
      "name": "python3",
      "display_name": "Python 3"
    },
    "language_info": {
      "name": "python"
    }
  },
  "cells": [
    {
      "cell_type": "code",
      "execution_count": 16,
      "metadata": {
        "id": "SYj1b6gs60PP"
      },
      "outputs": [],
      "source": [
        "import pandas as pd\n",
        "import numpy as np\n",
        "import matplotlib.pyplot as plt\n",
        "import seaborn as sns"
      ]
    },
    {
      "cell_type": "code",
      "source": [
        "pd.set_option('max_rows', 99999)\n",
        "pd.set_option('max_colwidth', 400)\n",
        "pd.describe_option('max_colwidth')"
      ],
      "metadata": {
        "colab": {
          "base_uri": "https://localhost:8080/"
        },
        "id": "eG1iopT7pKuv",
        "outputId": "32f31230-84d6-401d-a533-27c30f124a75"
      },
      "execution_count": 57,
      "outputs": [
        {
          "output_type": "stream",
          "name": "stdout",
          "text": [
            "display.max_colwidth : int or None\n",
            "    The maximum width in characters of a column in the repr of\n",
            "    a pandas data structure. When the column overflows, a \"...\"\n",
            "    placeholder is embedded in the output. A 'None' value means unlimited.\n",
            "    [default: 50] [currently: 400]\n"
          ]
        }
      ]
    },
    {
      "cell_type": "code",
      "source": [
        "df = pd.read_excel(r'/content/ChM_SO_2021_TrialStatistics.xlsx')"
      ],
      "metadata": {
        "id": "v4s82yv567Ea"
      },
      "execution_count": 17,
      "outputs": []
    },
    {
      "cell_type": "code",
      "source": [
        "columns=df.columns.to_list()\n",
        "columns"
      ],
      "metadata": {
        "id": "yRAVNqJ57FKj"
      },
      "execution_count": null,
      "outputs": []
    },
    {
      "cell_type": "code",
      "source": [
        "df.info()"
      ],
      "metadata": {
        "colab": {
          "base_uri": "https://localhost:8080/"
        },
        "id": "69SIDd0hkx1O",
        "outputId": "04a1ca9d-1446-4ad8-d5a8-2427c79137e6"
      },
      "execution_count": 27,
      "outputs": [
        {
          "output_type": "stream",
          "name": "stdout",
          "text": [
            "<class 'pandas.core.frame.DataFrame'>\n",
            "RangeIndex: 229 entries, 0 to 228\n",
            "Columns: 218 entries, Experiment to Support_Four_(%)\n",
            "dtypes: float64(97), int64(11), object(110)\n",
            "memory usage: 390.1+ KB\n"
          ]
        }
      ]
    },
    {
      "cell_type": "code",
      "source": [
        "cat_features=df.select_dtypes(exclude='number').columns\n",
        "num_features=df.select_dtypes(include=['int64', 'float64']).columns"
      ],
      "metadata": {
        "id": "QzCd4eqDlcB9"
      },
      "execution_count": 48,
      "outputs": []
    },
    {
      "cell_type": "code",
      "source": [
        "df.replace('-', 0, inplace=True)"
      ],
      "metadata": {
        "id": "vxm5AGBZltAr"
      },
      "execution_count": 60,
      "outputs": []
    },
    {
      "cell_type": "code",
      "source": [
        "y= df['Group_Type']"
      ],
      "metadata": {
        "id": "DXZ-KIJ_qZ_A"
      },
      "execution_count": 62,
      "outputs": []
    },
    {
      "cell_type": "code",
      "source": [
        "df.drop(['Experiment','Group','Group_Type','Animal','Time_Point','Time_Point_Description','Trial','Group_Description', 'Trial_Description'], axis = 1, inplace=True)"
      ],
      "metadata": {
        "id": "medvuhnJq0LF"
      },
      "execution_count": 70,
      "outputs": []
    },
    {
      "cell_type": "code",
      "source": [
        "df.isna().sum()"
      ],
      "metadata": {
        "colab": {
          "base_uri": "https://localhost:8080/"
        },
        "id": "o3KZ-ZMpsQYI",
        "outputId": "0f72d07a-033a-4f28-cd56-6d787feb742b"
      },
      "execution_count": 71,
      "outputs": [
        {
          "output_type": "execute_result",
          "data": {
            "text/plain": [
              "NumberOfRunsUsedForCalculatingTrialStatistics             0\n",
              "Run_Duration_(s)_Mean                                     0\n",
              "Run_Average_Speed_(cm/s)_Mean                             0\n",
              "Run_Maximum_Variation_(%)_Mean                            0\n",
              "RF_Stand_(s)_Mean                                         0\n",
              "RF_StandIndex_Mean                                        0\n",
              "RF_MaxContactAt_(%)_Mean                                  0\n",
              "RF_MaxContactArea_(cm²)_Mean                              0\n",
              "RF_MaxContactMaxIntensity_Mean                            0\n",
              "RF_MaxContactMeanIntensity_Mean                           0\n",
              "RF_PrintLength_(cm)_Mean                                  0\n",
              "RF_PrintWidth_(cm)_Mean                                   0\n",
              "RF_PrintArea_(cm²)_Mean                                   0\n",
              "RF_MaxIntensityAt_(%)_Mean                                0\n",
              "RF_MaxIntensity_Mean                                      0\n",
              "RF_MinIntensity_Mean                                      0\n",
              "RF_MeanIntensity_Mean                                     0\n",
              "RF_MeanIntensityOfThe15MostIntensePixels_Mean             0\n",
              "RF_Swing_(s)_Mean                                         0\n",
              "RF_SwingSpeed_(cm/s)_Mean                                 0\n",
              "RF_StrideLength_(cm)_Mean                                 0\n",
              "RF_StepCycle_(s)_Mean                                     0\n",
              "RF_DutyCycle_(%)_Mean                                     0\n",
              "RF_ToeSpread_(cm)_Mean                                    0\n",
              "RF_IntermediateToeSpread_(cm)_Mean                        0\n",
              "RF_ManualPrintLength_(cm)_Mean                            0\n",
              "RF_PawAngleBodyAxis_(°)_Mean                              0\n",
              "RF_PawAngleMovementVector_(°)_Mean                        0\n",
              "RF_SingleStance_(s)_Mean                                  0\n",
              "RF_InitialDualStance_(s)_Mean                             0\n",
              "RF_TerminalDualStance_(s)_Mean                            0\n",
              "RF_BodySpeed_(cm/s)_Mean                                  0\n",
              "RF_BodySpeedVariation_(%)_Mean                            0\n",
              "RH_Stand_(s)_Mean                                         0\n",
              "RH_StandIndex_Mean                                        0\n",
              "RH_MaxContactAt_(%)_Mean                                  0\n",
              "RH_MaxContactArea_(cm²)_Mean                              0\n",
              "RH_MaxContactMaxIntensity_Mean                            0\n",
              "RH_MaxContactMeanIntensity_Mean                           0\n",
              "RH_PrintLength_(cm)_Mean                                  0\n",
              "RH_PrintWidth_(cm)_Mean                                   0\n",
              "RH_PrintArea_(cm²)_Mean                                   0\n",
              "RH_MaxIntensityAt_(%)_Mean                                0\n",
              "RH_MaxIntensity_Mean                                      0\n",
              "RH_MinIntensity_Mean                                      0\n",
              "RH_MeanIntensity_Mean                                     0\n",
              "RH_MeanIntensityOfThe15MostIntensePixels_Mean             0\n",
              "RH_Swing_(s)_Mean                                         0\n",
              "RH_SwingSpeed_(cm/s)_Mean                                 0\n",
              "RH_StrideLength_(cm)_Mean                                 0\n",
              "RH_StepCycle_(s)_Mean                                     0\n",
              "RH_DutyCycle_(%)_Mean                                     0\n",
              "RH_ToeSpread_(cm)_Mean                                    0\n",
              "RH_IntermediateToeSpread_(cm)_Mean                        0\n",
              "RH_ManualPrintLength_(cm)_Mean                            0\n",
              "RH_PawAngleBodyAxis_(°)_Mean                              0\n",
              "RH_PawAngleMovementVector_(°)_Mean                        0\n",
              "RH_SingleStance_(s)_Mean                                  0\n",
              "RH_InitialDualStance_(s)_Mean                             0\n",
              "RH_TerminalDualStance_(s)_Mean                            0\n",
              "RH_BodySpeed_(cm/s)_Mean                                  0\n",
              "RH_BodySpeedVariation_(%)_Mean                            0\n",
              "LF_Stand_(s)_Mean                                         0\n",
              "LF_StandIndex_Mean                                        0\n",
              "LF_MaxContactAt_(%)_Mean                                  0\n",
              "LF_MaxContactArea_(cm²)_Mean                              0\n",
              "LF_MaxContactMaxIntensity_Mean                            0\n",
              "LF_MaxContactMeanIntensity_Mean                           0\n",
              "LF_PrintLength_(cm)_Mean                                  0\n",
              "LF_PrintWidth_(cm)_Mean                                   0\n",
              "LF_PrintArea_(cm²)_Mean                                   0\n",
              "LF_MaxIntensityAt_(%)_Mean                                0\n",
              "LF_MaxIntensity_Mean                                      0\n",
              "LF_MinIntensity_Mean                                      0\n",
              "LF_MeanIntensity_Mean                                     0\n",
              "LF_MeanIntensityOfThe15MostIntensePixels_Mean             0\n",
              "LF_Swing_(s)_Mean                                         0\n",
              "LF_SwingSpeed_(cm/s)_Mean                                 0\n",
              "LF_StrideLength_(cm)_Mean                                 0\n",
              "LF_StepCycle_(s)_Mean                                     0\n",
              "LF_DutyCycle_(%)_Mean                                     0\n",
              "LF_ToeSpread_(cm)_Mean                                    0\n",
              "LF_IntermediateToeSpread_(cm)_Mean                        0\n",
              "LF_ManualPrintLength_(cm)_Mean                            0\n",
              "LF_PawAngleBodyAxis_(°)_Mean                              0\n",
              "LF_PawAngleMovementVector_(°)_Mean                        0\n",
              "LF_SingleStance_(s)_Mean                                  0\n",
              "LF_InitialDualStance_(s)_Mean                             0\n",
              "LF_TerminalDualStance_(s)_Mean                            0\n",
              "LF_BodySpeed_(cm/s)_Mean                                  0\n",
              "LF_BodySpeedVariation_(%)_Mean                            0\n",
              "LH_Stand_(s)_Mean                                         0\n",
              "LH_StandIndex_Mean                                        0\n",
              "LH_MaxContactAt_(%)_Mean                                  0\n",
              "LH_MaxContactArea_(cm²)_Mean                              0\n",
              "LH_MaxContactMaxIntensity_Mean                            0\n",
              "LH_MaxContactMeanIntensity_Mean                           0\n",
              "LH_PrintLength_(cm)_Mean                                  0\n",
              "LH_PrintWidth_(cm)_Mean                                   0\n",
              "LH_PrintArea_(cm²)_Mean                                   0\n",
              "LH_MaxIntensityAt_(%)_Mean                                0\n",
              "LH_MaxIntensity_Mean                                      0\n",
              "LH_MinIntensity_Mean                                      0\n",
              "LH_MeanIntensity_Mean                                     0\n",
              "LH_MeanIntensityOfThe15MostIntensePixels_Mean             0\n",
              "LH_Swing_(s)_Mean                                         0\n",
              "LH_SwingSpeed_(cm/s)_Mean                                 0\n",
              "LH_StrideLength_(cm)_Mean                                 0\n",
              "LH_StepCycle_(s)_Mean                                     0\n",
              "LH_DutyCycle_(%)_Mean                                     0\n",
              "LH_ToeSpread_(cm)_Mean                                    0\n",
              "LH_IntermediateToeSpread_(cm)_Mean                        0\n",
              "LH_ManualPrintLength_(cm)_Mean                            0\n",
              "LH_PawAngleBodyAxis_(°)_Mean                              0\n",
              "LH_PawAngleMovementVector_(°)_Mean                        0\n",
              "LH_SingleStance_(s)_Mean                                  0\n",
              "LH_InitialDualStance_(s)_Mean                             0\n",
              "LH_TerminalDualStance_(s)_Mean                            0\n",
              "LH_BodySpeed_(cm/s)_Mean                                  0\n",
              "LH_BodySpeedVariation_(%)_Mean                            0\n",
              "StepSequence_NumberOfPatterns                             0\n",
              "StepSequence_CA_(%)                                       0\n",
              "StepSequence_CB_(%)                                       0\n",
              "StepSequence_AA_(%)                                       0\n",
              "StepSequence_AB_(%)                                       0\n",
              "StepSequence_RA_(%)                                       0\n",
              "StepSequence_RB_(%)                                       0\n",
              "StepSequence_RegularityIndex_(%)                          0\n",
              "BOS_FrontPaws_Mean_(cm)                                   0\n",
              "BOS_HindPaws_Mean_(cm)                                    0\n",
              "OtherStatistics_Duration_Mean                             0\n",
              "OtherStatistics_Average_Speed_Mean                        0\n",
              "OtherStatistics_Maximum_Variation_(%)_Mean                0\n",
              "OtherStatistics_NumberOfSteps                             0\n",
              "OtherStatistics_Cadence                                   0\n",
              "OtherStatistics_Sciatic_Functional_Index_Mean             0\n",
              "OtherStatistics_Peroneal_Functional_Index_Mean            0\n",
              "OtherStatistics_Posterior_Tibial_Functional_Index_Mean    0\n",
              "OtherStatistics_RM_(%)                                    0\n",
              "OtherStatistics_RK_(%)                                    0\n",
              "OtherStatistics_LM_(%)                                    0\n",
              "OtherStatistics_LK_(%)                                    0\n",
              "OtherStatistics_NO_(%)                                    0\n",
              "OtherStatistics_AB_(%)                                    0\n",
              "OtherStatistics_TA_(%)                                    0\n",
              "OtherStatistics_GT_(%)                                    0\n",
              "PrintPositions_RightPaws_Mean_(cm)                        0\n",
              "PrintPositions_LeftPaws_Mean_(cm)                         0\n",
              "PhaseDispersions_RF->LH_Mean                              0\n",
              "PhaseDispersions_RF->LH_CStat_Mean                        0\n",
              "PhaseDispersions_RF->LH_CStat_R                           0\n",
              "PhaseDispersions_LF->RH_Mean                              0\n",
              "PhaseDispersions_LF->RH_CStat_Mean                        0\n",
              "PhaseDispersions_LF->RH_CStat_R                           0\n",
              "PhaseDispersions_LH->RH_Mean                              0\n",
              "PhaseDispersions_LH->RH_CStat_Mean                        0\n",
              "PhaseDispersions_LH->RH_CStat_R                           0\n",
              "PhaseDispersions_LF->RF_Mean                              0\n",
              "PhaseDispersions_LF->RF_CStat_Mean                        0\n",
              "PhaseDispersions_LF->RF_CStat_R                           0\n",
              "PhaseDispersions_RF->RH_Mean                              0\n",
              "PhaseDispersions_RF->RH_CStat_Mean                        0\n",
              "PhaseDispersions_RF->RH_CStat_R                           0\n",
              "PhaseDispersions_LF->LH_Mean                              0\n",
              "PhaseDispersions_LF->LH_CStat_Mean                        0\n",
              "PhaseDispersions_LF->LH_CStat_R                           0\n",
              "Couplings_RF->LH_Mean                                     0\n",
              "Couplings_RF->LH_CStat_Mean                               0\n",
              "Couplings_RF->LH_CStat_R                                  0\n",
              "Couplings_LF->RH_Mean                                     0\n",
              "Couplings_LF->RH_CStat_Mean                               0\n",
              "Couplings_LF->RH_CStat_R                                  0\n",
              "Couplings_LH->RF_Mean                                     0\n",
              "Couplings_LH->RF_CStat_Mean                               0\n",
              "Couplings_LH->RF_CStat_R                                  0\n",
              "Couplings_RH->LF_Mean                                     0\n",
              "Couplings_RH->LF_CStat_Mean                               0\n",
              "Couplings_RH->LF_CStat_R                                  0\n",
              "Couplings_LH->RH_Mean                                     0\n",
              "Couplings_LH->RH_CStat_Mean                               0\n",
              "Couplings_LH->RH_CStat_R                                  0\n",
              "Couplings_LF->RF_Mean                                     0\n",
              "Couplings_LF->RF_CStat_Mean                               0\n",
              "Couplings_LF->RF_CStat_R                                  0\n",
              "Couplings_RH->LH_Mean                                     0\n",
              "Couplings_RH->LH_CStat_Mean                               0\n",
              "Couplings_RH->LH_CStat_R                                  0\n",
              "Couplings_RF->LF_Mean                                     0\n",
              "Couplings_RF->LF_CStat_Mean                               0\n",
              "Couplings_RF->LF_CStat_R                                  0\n",
              "Couplings_RF->RH_Mean                                     0\n",
              "Couplings_RF->RH_CStat_Mean                               0\n",
              "Couplings_RF->RH_CStat_R                                  0\n",
              "Couplings_LF->LH_Mean                                     0\n",
              "Couplings_LF->LH_CStat_Mean                               0\n",
              "Couplings_LF->LH_CStat_R                                  0\n",
              "Couplings_RH->RF_Mean                                     0\n",
              "Couplings_RH->RF_CStat_Mean                               0\n",
              "Couplings_RH->RF_CStat_R                                  0\n",
              "Couplings_LH->LF_Mean                                     0\n",
              "Couplings_LH->LF_CStat_Mean                               0\n",
              "Couplings_LH->LF_CStat_R                                  0\n",
              "Support_Zero_(%)                                          0\n",
              "Support_Single_(%)                                        0\n",
              "Support_Diagonal_(%)                                      0\n",
              "Support_Girdle_(%)                                        0\n",
              "Support_Lateral_(%)                                       0\n",
              "Support_Three_(%)                                         0\n",
              "Support_Four_(%)                                          0\n",
              "dtype: int64"
            ]
          },
          "metadata": {},
          "execution_count": 71
        }
      ]
    },
    {
      "cell_type": "code",
      "source": [
        "from sklearn.decomposition import PCA\n",
        "from sklearn.preprocessing import StandardScaler, OrdinalEncoder, OneHotEncoder, MinMaxScaler"
      ],
      "metadata": {
        "id": "kn8yehEX7LKN"
      },
      "execution_count": 105,
      "outputs": []
    },
    {
      "cell_type": "code",
      "source": [
        "oe = OrdinalEncoder()\n",
        "ohe = OneHotEncoder()\n",
        "X_oe=oe.fit_transform(df)\n",
        "X_ohe=ohe.fit_transform(df)"
      ],
      "metadata": {
        "id": "5lFYAFrimxui"
      },
      "execution_count": 102,
      "outputs": []
    },
    {
      "cell_type": "code",
      "source": [
        "scaler=StandardScaler()\n",
        "\n",
        "X_scaled=scaler.fit_transform(X_oe)\n",
        "\n",
        "pca= PCA()\n",
        "\n",
        "X_pca = pca.fit_transform(X_scaled)"
      ],
      "metadata": {
        "id": "eA5mKvYz-3L3"
      },
      "execution_count": 79,
      "outputs": []
    },
    {
      "cell_type": "markdown",
      "source": [
        "# Ordinal Encoding \n"
      ],
      "metadata": {
        "id": "aTw1yBWBgqmU"
      }
    },
    {
      "cell_type": "code",
      "source": [
        "sns.scatterplot(X_pca[:,0], X_pca[:,1], s=20, cmap='coolwarm')\n",
        "plt.title('Scatterplot of two first features (X1 and X2)')\n",
        "plt.show()"
      ],
      "metadata": {
        "colab": {
          "base_uri": "https://localhost:8080/",
          "height": 336
        },
        "id": "hqsPRuDn_AGQ",
        "outputId": "3eec8614-7834-470d-883b-43689827aba7"
      },
      "execution_count": 80,
      "outputs": [
        {
          "output_type": "stream",
          "name": "stderr",
          "text": [
            "/usr/local/lib/python3.7/dist-packages/seaborn/_decorators.py:43: FutureWarning: Pass the following variables as keyword args: x, y. From version 0.12, the only valid positional argument will be `data`, and passing other arguments without an explicit keyword will result in an error or misinterpretation.\n",
            "  FutureWarning\n"
          ]
        },
        {
          "output_type": "display_data",
          "data": {
            "text/plain": [
              "<Figure size 432x288 with 1 Axes>"
            ],
            "image/png": "[encoded data removed]"
          },
          "metadata": {
            "needs_background": "light"
          }
        }
      ]
    },
    {
      "cell_type": "markdown",
      "source": [
        "How much principal components do we need to explain variance in data? "
      ],
      "metadata": {
        "id": "GHPBqpv2vuc3"
      }
    },
    {
      "cell_type": "code",
      "source": [
        "np.where(np.cumsum(pca.explained_variance_ratio_) > 0.9)[0][0]+1"
      ],
      "metadata": {
        "colab": {
          "base_uri": "https://localhost:8080/"
        },
        "id": "yqAKU6SOvKju",
        "outputId": "b3e233fe-7849-45e7-9dfe-a9290317a2e8"
      },
      "execution_count": 97,
      "outputs": [
        {
          "output_type": "execute_result",
          "data": {
            "text/plain": [
              "37"
            ]
          },
          "metadata": {},
          "execution_count": 97
        }
      ]
    },
    {
      "cell_type": "code",
      "source": [
        "print(f'37 principal components explain {round(np.cumsum(pca.explained_variance_ratio_[:37])[-1],2)*100}% of variance')\n",
        "plt.figure(figsize=(10, 7))\n",
        "plt.plot(np.cumsum(pca.explained_variance_ratio_), lw=3, color=\"g\")\n",
        "plt.xlabel(\"Number of components\")\n",
        "plt.ylabel(\"Total explained variance\")\n",
        "plt.axvline(x=37)\n",
        "plt.axhline(y=0.9)\n",
        "plt.xlim(0, 50)\n",
        "plt.yticks(np.arange(0, 1.1, 0.1))\n",
        "plt.show()"
      ],
      "metadata": {
        "colab": {
          "base_uri": "https://localhost:8080/",
          "height": 459
        },
        "id": "DWgSjWlVgppy",
        "outputId": "7ce5875d-62e8-455e-a97b-72a1b76f4269"
      },
      "execution_count": 100,
      "outputs": [
        {
          "output_type": "stream",
          "name": "stdout",
          "text": [
            "37 principal components explain 90.0% of variance\n"
          ]
        },
        {
          "output_type": "display_data",
          "data": {
            "text/plain": [
              "<Figure size 720x504 with 1 Axes>"
            ],
            "image/png": "[encoded data removed]"
          },
          "metadata": {
            "needs_background": "light"
          }
        }
      ]
    },
    {
      "cell_type": "markdown",
      "source": [
        "# OHE and Standard Encoding"
      ],
      "metadata": {
        "id": "OQIuoa_VxtZD"
      }
    },
    {
      "cell_type": "code",
      "source": [
        "X_ohe.shape"
      ],
      "metadata": {
        "colab": {
          "base_uri": "https://localhost:8080/"
        },
        "id": "L62djzQVxqKA",
        "outputId": "73709e65-ac3f-4561-d63a-147d34c8c3a2"
      },
      "execution_count": 103,
      "outputs": [
        {
          "output_type": "execute_result",
          "data": {
            "text/plain": [
              "(229, 37400)"
            ]
          },
          "metadata": {},
          "execution_count": 103
        }
      ]
    },
    {
      "cell_type": "markdown",
      "source": [
        "#OE and Min Max scaling"
      ],
      "metadata": {
        "id": "M1WX-37YyDWR"
      }
    },
    {
      "cell_type": "code",
      "source": [
        "mm_scaler=MinMaxScaler()\n",
        "\n",
        "X_scaled=scaler.fit_transform(X_oe)\n",
        "\n",
        "pca_mm= PCA()\n",
        "\n",
        "X_pca_mm = pca_mm.fit_transform(X_scaled)"
      ],
      "metadata": {
        "id": "Y3Hi1-h5yHPt"
      },
      "execution_count": 115,
      "outputs": []
    },
    {
      "cell_type": "code",
      "source": [
        "sns.scatterplot(X_pca_mm[:,0], X_pca_mm[:,1], s=20, cmap='coolwarm')\n",
        "plt.title('Scatterplot of two first features (X1 and X2)')\n",
        "plt.show()"
      ],
      "metadata": {
        "colab": {
          "base_uri": "https://localhost:8080/",
          "height": 336
        },
        "id": "gTlTquWuySMb",
        "outputId": "729f3560-2533-4ee7-c961-5c48621ebb0b"
      },
      "execution_count": 116,
      "outputs": [
        {
          "output_type": "stream",
          "name": "stderr",
          "text": [
            "/usr/local/lib/python3.7/dist-packages/seaborn/_decorators.py:43: FutureWarning: Pass the following variables as keyword args: x, y. From version 0.12, the only valid positional argument will be `data`, and passing other arguments without an explicit keyword will result in an error or misinterpretation.\n",
            "  FutureWarning\n"
          ]
        },
        {
          "output_type": "display_data",
          "data": {
            "text/plain": [
              "<Figure size 432x288 with 1 Axes>"
            ],
            "image/png": "[encoded data removed]"
          },
          "metadata": {
            "needs_background": "light"
          }
        }
      ]
    },
    {
      "cell_type": "code",
      "source": [
        "np.where(np.cumsum(pca.explained_variance_ratio_) > 0.9)[0][0]+1"
      ],
      "metadata": {
        "colab": {
          "base_uri": "https://localhost:8080/"
        },
        "id": "QAj2C0qtydpL",
        "outputId": "95411e1a-5204-4c8a-e892-511149f409a0"
      },
      "execution_count": 117,
      "outputs": [
        {
          "output_type": "execute_result",
          "data": {
            "text/plain": [
              "37"
            ]
          },
          "metadata": {},
          "execution_count": 117
        }
      ]
    },
    {
      "cell_type": "code",
      "source": [
        "print(f'37 principal components explain {round(np.cumsum(pca_mm.explained_variance_ratio_[:37])[-1],2)*100}% of variance')\n",
        "plt.figure(figsize=(10, 7))\n",
        "plt.plot(np.cumsum(pca_mm.explained_variance_ratio_), lw=3, color=\"g\")\n",
        "plt.xlabel(\"Number of components\")\n",
        "plt.ylabel(\"Total explained variance\")\n",
        "plt.axvline(x=37)\n",
        "plt.axhline(y=0.9)\n",
        "plt.xlim(0, 50)\n",
        "plt.yticks(np.arange(0, 1.1, 0.1))\n",
        "plt.show()"
      ],
      "metadata": {
        "colab": {
          "base_uri": "https://localhost:8080/",
          "height": 459
        },
        "id": "6kZUy8BbyhqS",
        "outputId": "3160253f-cfaa-4c80-c22b-c6331b4040bd"
      },
      "execution_count": 119,
      "outputs": [
        {
          "output_type": "stream",
          "name": "stdout",
          "text": [
            "37 principal components explain 90.0% of variance\n"
          ]
        },
        {
          "output_type": "display_data",
          "data": {
            "text/plain": [
              "<Figure size 720x504 with 1 Axes>"
            ],
            "image/png": "[encoded data removed]"
          },
          "metadata": {
            "needs_background": "light"
          }
        }
      ]
    },
    {
      "cell_type": "code",
      "source": [
        ""
      ],
      "metadata": {
        "id": "3dXAvA1Yy3Jr"
      },
      "execution_count": null,
      "outputs": []
    }
  ]
}